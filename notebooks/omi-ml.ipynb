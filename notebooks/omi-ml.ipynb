{
 "cells": [
  {
   "cell_type": "markdown",
   "id": "ba614fe2-46e9-44a5-96a4-36fe915ef8a2",
   "metadata": {},
   "source": [
    "# Data loading and modeling choices"
   ]
  },
  {
   "cell_type": "markdown",
   "id": "a29bfd06-4710-414f-9c2e-668a4a1c2dad",
   "metadata": {},
   "source": [
    "Our target are `prezzo_min` and `prezzo_max`. We keep `affitto_min` and `affitto_max` in our model, even though in a real world setting we might have to forecast _all four_ of these values. We keep the rental prices in the model to have some quantitative variables in our training set. We drop the observations where the target variable is missing."
   ]
  },
  {
   "cell_type": "code",
   "execution_count": 1,
   "id": "d35c874d-fddd-4ae9-a031-421f1c08cdbd",
   "metadata": {},
   "outputs": [],
   "source": [
    "from omi.dataloader import ValuesDataLoader\n",
    "\n",
    "target_cols = [\"prezzo_min\", \"prezzo_max\"]\n",
    "\n",
    "values_dataloader = ValuesDataLoader(year=2022)\n",
    "values = (\n",
    "    values_dataloader\n",
    "    .load(semester=2)\n",
    "    .query(\"prezzo_min > 0 and prezzo_max > 0\")\n",
    ")\n",
    "\n",
    "data, target = values.drop(columns=target_cols), values.filter(target_cols)"
   ]
  },
  {
   "cell_type": "code",
   "execution_count": 2,
   "id": "1d1fa188-1d52-4291-97b8-d3f2303c8cc9",
   "metadata": {},
   "outputs": [
    {
     "data": {
      "text/html": [
       "<div>\n",
       "<style scoped>\n",
       "    .dataframe tbody tr th:only-of-type {\n",
       "        vertical-align: middle;\n",
       "    }\n",
       "\n",
       "    .dataframe tbody tr th {\n",
       "        vertical-align: top;\n",
       "    }\n",
       "\n",
       "    .dataframe thead th {\n",
       "        text-align: right;\n",
       "    }\n",
       "</style>\n",
       "<table border=\"1\" class=\"dataframe\">\n",
       "  <thead>\n",
       "    <tr style=\"text-align: right;\">\n",
       "      <th></th>\n",
       "      <th>area_territoriale</th>\n",
       "      <th>regione</th>\n",
       "      <th>provincia</th>\n",
       "      <th>comune_codice_istat</th>\n",
       "      <th>comune_codice_catastale</th>\n",
       "      <th>comune_codice_nazionale</th>\n",
       "      <th>comune_denominazione</th>\n",
       "      <th>fascia</th>\n",
       "      <th>zona</th>\n",
       "      <th>linkzona</th>\n",
       "      <th>tipologia_codice</th>\n",
       "      <th>tipologia_descrizione</th>\n",
       "      <th>condizione</th>\n",
       "      <th>affitto_min</th>\n",
       "      <th>affitto_max</th>\n",
       "      <th>affitto_superficie</th>\n",
       "    </tr>\n",
       "  </thead>\n",
       "  <tbody>\n",
       "    <tr>\n",
       "      <th>0</th>\n",
       "      <td>NORD-OVEST</td>\n",
       "      <td>PIEMONTE</td>\n",
       "      <td>AL</td>\n",
       "      <td>1006003.0</td>\n",
       "      <td>A2AA</td>\n",
       "      <td>A182</td>\n",
       "      <td>ALESSANDRIA</td>\n",
       "      <td>B</td>\n",
       "      <td>B1</td>\n",
       "      <td>AL00000001</td>\n",
       "      <td>20</td>\n",
       "      <td>Abitazioni civili</td>\n",
       "      <td>NORMALE</td>\n",
       "      <td>4.0</td>\n",
       "      <td>6.0</td>\n",
       "      <td>L</td>\n",
       "    </tr>\n",
       "    <tr>\n",
       "      <th>1</th>\n",
       "      <td>NORD-OVEST</td>\n",
       "      <td>PIEMONTE</td>\n",
       "      <td>AL</td>\n",
       "      <td>1006003.0</td>\n",
       "      <td>A2AA</td>\n",
       "      <td>A182</td>\n",
       "      <td>ALESSANDRIA</td>\n",
       "      <td>B</td>\n",
       "      <td>B1</td>\n",
       "      <td>AL00000001</td>\n",
       "      <td>13</td>\n",
       "      <td>Box</td>\n",
       "      <td>NORMALE</td>\n",
       "      <td>4.0</td>\n",
       "      <td>5.8</td>\n",
       "      <td>L</td>\n",
       "    </tr>\n",
       "    <tr>\n",
       "      <th>2</th>\n",
       "      <td>NORD-OVEST</td>\n",
       "      <td>PIEMONTE</td>\n",
       "      <td>AL</td>\n",
       "      <td>1006003.0</td>\n",
       "      <td>A2AA</td>\n",
       "      <td>A182</td>\n",
       "      <td>ALESSANDRIA</td>\n",
       "      <td>B</td>\n",
       "      <td>B1</td>\n",
       "      <td>AL00000001</td>\n",
       "      <td>14</td>\n",
       "      <td>Posti auto coperti</td>\n",
       "      <td>NORMALE</td>\n",
       "      <td>2.7</td>\n",
       "      <td>3.8</td>\n",
       "      <td>L</td>\n",
       "    </tr>\n",
       "    <tr>\n",
       "      <th>3</th>\n",
       "      <td>NORD-OVEST</td>\n",
       "      <td>PIEMONTE</td>\n",
       "      <td>AL</td>\n",
       "      <td>1006003.0</td>\n",
       "      <td>A2AA</td>\n",
       "      <td>A182</td>\n",
       "      <td>ALESSANDRIA</td>\n",
       "      <td>B</td>\n",
       "      <td>B1</td>\n",
       "      <td>AL00000001</td>\n",
       "      <td>15</td>\n",
       "      <td>Posti auto scoperti</td>\n",
       "      <td>NORMALE</td>\n",
       "      <td>2.5</td>\n",
       "      <td>3.3</td>\n",
       "      <td>L</td>\n",
       "    </tr>\n",
       "    <tr>\n",
       "      <th>4</th>\n",
       "      <td>NORD-OVEST</td>\n",
       "      <td>PIEMONTE</td>\n",
       "      <td>AL</td>\n",
       "      <td>1006003.0</td>\n",
       "      <td>A2AA</td>\n",
       "      <td>A182</td>\n",
       "      <td>ALESSANDRIA</td>\n",
       "      <td>B</td>\n",
       "      <td>B1</td>\n",
       "      <td>AL00000001</td>\n",
       "      <td>9</td>\n",
       "      <td>Magazzini</td>\n",
       "      <td>NORMALE</td>\n",
       "      <td>4.6</td>\n",
       "      <td>5.4</td>\n",
       "      <td>L</td>\n",
       "    </tr>\n",
       "  </tbody>\n",
       "</table>\n",
       "</div>"
      ],
      "text/plain": [
       "  area_territoriale   regione provincia comune_codice_istat  \\\n",
       "0        NORD-OVEST  PIEMONTE        AL           1006003.0   \n",
       "1        NORD-OVEST  PIEMONTE        AL           1006003.0   \n",
       "2        NORD-OVEST  PIEMONTE        AL           1006003.0   \n",
       "3        NORD-OVEST  PIEMONTE        AL           1006003.0   \n",
       "4        NORD-OVEST  PIEMONTE        AL           1006003.0   \n",
       "\n",
       "  comune_codice_catastale comune_codice_nazionale comune_denominazione fascia  \\\n",
       "0                    A2AA                    A182          ALESSANDRIA      B   \n",
       "1                    A2AA                    A182          ALESSANDRIA      B   \n",
       "2                    A2AA                    A182          ALESSANDRIA      B   \n",
       "3                    A2AA                    A182          ALESSANDRIA      B   \n",
       "4                    A2AA                    A182          ALESSANDRIA      B   \n",
       "\n",
       "  zona    linkzona tipologia_codice tipologia_descrizione condizione  \\\n",
       "0   B1  AL00000001               20     Abitazioni civili    NORMALE   \n",
       "1   B1  AL00000001               13                   Box    NORMALE   \n",
       "2   B1  AL00000001               14    Posti auto coperti    NORMALE   \n",
       "3   B1  AL00000001               15   Posti auto scoperti    NORMALE   \n",
       "4   B1  AL00000001                9             Magazzini    NORMALE   \n",
       "\n",
       "   affitto_min  affitto_max affitto_superficie  \n",
       "0          4.0          6.0                  L  \n",
       "1          4.0          5.8                  L  \n",
       "2          2.7          3.8                  L  \n",
       "3          2.5          3.3                  L  \n",
       "4          4.6          5.4                  L  "
      ]
     },
     "execution_count": 2,
     "metadata": {},
     "output_type": "execute_result"
    }
   ],
   "source": [
    "data.head()"
   ]
  },
  {
   "cell_type": "markdown",
   "id": "db44f5cd-2684-4cd9-a659-22ad0b95ff8f",
   "metadata": {},
   "source": [
    "# Metrics"
   ]
  },
  {
   "cell_type": "markdown",
   "id": "0ab658c4-eac6-4a77-9ebd-141732feb176",
   "metadata": {},
   "source": [
    "In absence of business requirements or KPIs, the metric of choice will be the mean absolute error (MAE), which denotes the error in euro/squared meter."
   ]
  },
  {
   "cell_type": "markdown",
   "id": "e348f2c8-7d6a-42da-99ad-f52f7c0ba1da",
   "metadata": {},
   "source": [
    "# Feature selection"
   ]
  },
  {
   "cell_type": "code",
   "execution_count": 3,
   "id": "09e3aa3b-673c-4f0e-8065-7f64fb65c454",
   "metadata": {},
   "outputs": [],
   "source": [
    "from sklearn import model_selection\n",
    "from sklearn import compose, preprocessing, pipeline\n",
    "from sklearn import linear_model, ensemble, multioutput\n",
    "from sklearn import metrics"
   ]
  },
  {
   "cell_type": "code",
   "execution_count": 4,
   "id": "5aa7c7c9-ebcb-4b52-aed5-75d5c43243ec",
   "metadata": {},
   "outputs": [],
   "source": [
    "X_train, X_test, y_train, y_test = model_selection.train_test_split(data, target, train_size=0.8)"
   ]
  },
  {
   "cell_type": "markdown",
   "id": "7bc8fdf5-54c1-4021-8cfb-685416e39a12",
   "metadata": {},
   "source": [
    "We only keep categorical and numerical columns, and not string columns like `comune_codice_istat`, to avoid the curse of dimensionality: once encoded, they would have too many levels. This is not an issue for ensembles of trees, but I chose this approach for the following reasons:\n",
    "\n",
    "1. Faster convergence\n",
    "2. More dense data\n",
    "3. Less parameters to interpret\n",
    "4. Provide a baseline (e.g. in the future we could regress against the municipalities and see the improvement).\n",
    "\n",
    "Ideally, one could encode these variables. Bigger cities could be denoted by an indicator variable (e.g. Milan); clustering algorithms with external data (e.g. GDP) could be used. Nevertheless, an indicator for each municipality is too much: my hope/intuition is that there are already enough categorical values to capture the \"core\" variance across cities (e.g. capture why an apartment is more expensive in Milan than a rural village in the midst of Molise).\n",
    "\n",
    "A couple more notes. We might also want to consider dropping either the `area_territoriale` or `regione` , since we have categorical variables available at the `provincia` and municipal level. Besides, we could lump some levels in other categories, too, such as those occurring the least in `tipologia_descrizione`."
   ]
  },
  {
   "cell_type": "code",
   "execution_count": 5,
   "id": "f2461365-e3eb-41c8-95ec-393b22222f22",
   "metadata": {},
   "outputs": [],
   "source": [
    "numeric_selector = compose.make_column_selector(dtype_include=\"number\")\n",
    "categorical_selector = compose.make_column_selector(dtype_include=\"category\")"
   ]
  },
  {
   "cell_type": "markdown",
   "id": "402d2e9b-5678-4d6c-a104-42feb4d1af4b",
   "metadata": {},
   "source": [
    "# Baseline"
   ]
  },
  {
   "cell_type": "code",
   "execution_count": 6,
   "id": "8dbd26e5-137b-4f6a-b47d-60256533e504",
   "metadata": {},
   "outputs": [
    {
     "data": {
      "text/html": [
       "<style>#sk-container-id-1 {color: black;}#sk-container-id-1 pre{padding: 0;}#sk-container-id-1 div.sk-toggleable {background-color: white;}#sk-container-id-1 label.sk-toggleable__label {cursor: pointer;display: block;width: 100%;margin-bottom: 0;padding: 0.3em;box-sizing: border-box;text-align: center;}#sk-container-id-1 label.sk-toggleable__label-arrow:before {content: \"▸\";float: left;margin-right: 0.25em;color: #696969;}#sk-container-id-1 label.sk-toggleable__label-arrow:hover:before {color: black;}#sk-container-id-1 div.sk-estimator:hover label.sk-toggleable__label-arrow:before {color: black;}#sk-container-id-1 div.sk-toggleable__content {max-height: 0;max-width: 0;overflow: hidden;text-align: left;background-color: #f0f8ff;}#sk-container-id-1 div.sk-toggleable__content pre {margin: 0.2em;color: black;border-radius: 0.25em;background-color: #f0f8ff;}#sk-container-id-1 input.sk-toggleable__control:checked~div.sk-toggleable__content {max-height: 200px;max-width: 100%;overflow: auto;}#sk-container-id-1 input.sk-toggleable__control:checked~label.sk-toggleable__label-arrow:before {content: \"▾\";}#sk-container-id-1 div.sk-estimator input.sk-toggleable__control:checked~label.sk-toggleable__label {background-color: #d4ebff;}#sk-container-id-1 div.sk-label input.sk-toggleable__control:checked~label.sk-toggleable__label {background-color: #d4ebff;}#sk-container-id-1 input.sk-hidden--visually {border: 0;clip: rect(1px 1px 1px 1px);clip: rect(1px, 1px, 1px, 1px);height: 1px;margin: -1px;overflow: hidden;padding: 0;position: absolute;width: 1px;}#sk-container-id-1 div.sk-estimator {font-family: monospace;background-color: #f0f8ff;border: 1px dotted black;border-radius: 0.25em;box-sizing: border-box;margin-bottom: 0.5em;}#sk-container-id-1 div.sk-estimator:hover {background-color: #d4ebff;}#sk-container-id-1 div.sk-parallel-item::after {content: \"\";width: 100%;border-bottom: 1px solid gray;flex-grow: 1;}#sk-container-id-1 div.sk-label:hover label.sk-toggleable__label {background-color: #d4ebff;}#sk-container-id-1 div.sk-serial::before {content: \"\";position: absolute;border-left: 1px solid gray;box-sizing: border-box;top: 0;bottom: 0;left: 50%;z-index: 0;}#sk-container-id-1 div.sk-serial {display: flex;flex-direction: column;align-items: center;background-color: white;padding-right: 0.2em;padding-left: 0.2em;position: relative;}#sk-container-id-1 div.sk-item {position: relative;z-index: 1;}#sk-container-id-1 div.sk-parallel {display: flex;align-items: stretch;justify-content: center;background-color: white;position: relative;}#sk-container-id-1 div.sk-item::before, #sk-container-id-1 div.sk-parallel-item::before {content: \"\";position: absolute;border-left: 1px solid gray;box-sizing: border-box;top: 0;bottom: 0;left: 50%;z-index: -1;}#sk-container-id-1 div.sk-parallel-item {display: flex;flex-direction: column;z-index: 1;position: relative;background-color: white;}#sk-container-id-1 div.sk-parallel-item:first-child::after {align-self: flex-end;width: 50%;}#sk-container-id-1 div.sk-parallel-item:last-child::after {align-self: flex-start;width: 50%;}#sk-container-id-1 div.sk-parallel-item:only-child::after {width: 0;}#sk-container-id-1 div.sk-dashed-wrapped {border: 1px dashed gray;margin: 0 0.4em 0.5em 0.4em;box-sizing: border-box;padding-bottom: 0.4em;background-color: white;}#sk-container-id-1 div.sk-label label {font-family: monospace;font-weight: bold;display: inline-block;line-height: 1.2em;}#sk-container-id-1 div.sk-label-container {text-align: center;}#sk-container-id-1 div.sk-container {/* jupyter's `normalize.less` sets `[hidden] { display: none; }` but bootstrap.min.css set `[hidden] { display: none !important; }` so we also need the `!important` here to be able to override the default hidden behavior on the sphinx rendered scikit-learn.org. See: https://github.com/scikit-learn/scikit-learn/issues/21755 */display: inline-block !important;position: relative;}#sk-container-id-1 div.sk-text-repr-fallback {display: none;}</style><div id=\"sk-container-id-1\" class=\"sk-top-container\"><div class=\"sk-text-repr-fallback\"><pre>Pipeline(steps=[(&#x27;feature_eng&#x27;,\n",
       "                 ColumnTransformer(transformers=[(&#x27;ordinal_encoding&#x27;,\n",
       "                                                  OrdinalEncoder(handle_unknown=&#x27;use_encoded_value&#x27;,\n",
       "                                                                 unknown_value=-1),\n",
       "                                                  &lt;sklearn.compose._column_transformer.make_column_selector object at 0x174b690c0&gt;),\n",
       "                                                 (&#x27;quantitative_cols&#x27;,\n",
       "                                                  &#x27;passthrough&#x27;,\n",
       "                                                  &lt;sklearn.compose._column_transformer.make_column_selector object at 0x174b6a680&gt;)])),\n",
       "                (&#x27;gbft&#x27;,\n",
       "                 MultiOutputRegressor(estimator=HistGradientBoostingRegressor(random_state=42)))])</pre><b>In a Jupyter environment, please rerun this cell to show the HTML representation or trust the notebook. <br />On GitHub, the HTML representation is unable to render, please try loading this page with nbviewer.org.</b></div><div class=\"sk-container\" hidden><div class=\"sk-item sk-dashed-wrapped\"><div class=\"sk-label-container\"><div class=\"sk-label sk-toggleable\"><input class=\"sk-toggleable__control sk-hidden--visually\" id=\"sk-estimator-id-1\" type=\"checkbox\" ><label for=\"sk-estimator-id-1\" class=\"sk-toggleable__label sk-toggleable__label-arrow\">Pipeline</label><div class=\"sk-toggleable__content\"><pre>Pipeline(steps=[(&#x27;feature_eng&#x27;,\n",
       "                 ColumnTransformer(transformers=[(&#x27;ordinal_encoding&#x27;,\n",
       "                                                  OrdinalEncoder(handle_unknown=&#x27;use_encoded_value&#x27;,\n",
       "                                                                 unknown_value=-1),\n",
       "                                                  &lt;sklearn.compose._column_transformer.make_column_selector object at 0x174b690c0&gt;),\n",
       "                                                 (&#x27;quantitative_cols&#x27;,\n",
       "                                                  &#x27;passthrough&#x27;,\n",
       "                                                  &lt;sklearn.compose._column_transformer.make_column_selector object at 0x174b6a680&gt;)])),\n",
       "                (&#x27;gbft&#x27;,\n",
       "                 MultiOutputRegressor(estimator=HistGradientBoostingRegressor(random_state=42)))])</pre></div></div></div><div class=\"sk-serial\"><div class=\"sk-item sk-dashed-wrapped\"><div class=\"sk-label-container\"><div class=\"sk-label sk-toggleable\"><input class=\"sk-toggleable__control sk-hidden--visually\" id=\"sk-estimator-id-2\" type=\"checkbox\" ><label for=\"sk-estimator-id-2\" class=\"sk-toggleable__label sk-toggleable__label-arrow\">feature_eng: ColumnTransformer</label><div class=\"sk-toggleable__content\"><pre>ColumnTransformer(transformers=[(&#x27;ordinal_encoding&#x27;,\n",
       "                                 OrdinalEncoder(handle_unknown=&#x27;use_encoded_value&#x27;,\n",
       "                                                unknown_value=-1),\n",
       "                                 &lt;sklearn.compose._column_transformer.make_column_selector object at 0x174b690c0&gt;),\n",
       "                                (&#x27;quantitative_cols&#x27;, &#x27;passthrough&#x27;,\n",
       "                                 &lt;sklearn.compose._column_transformer.make_column_selector object at 0x174b6a680&gt;)])</pre></div></div></div><div class=\"sk-parallel\"><div class=\"sk-parallel-item\"><div class=\"sk-item\"><div class=\"sk-label-container\"><div class=\"sk-label sk-toggleable\"><input class=\"sk-toggleable__control sk-hidden--visually\" id=\"sk-estimator-id-3\" type=\"checkbox\" ><label for=\"sk-estimator-id-3\" class=\"sk-toggleable__label sk-toggleable__label-arrow\">ordinal_encoding</label><div class=\"sk-toggleable__content\"><pre>&lt;sklearn.compose._column_transformer.make_column_selector object at 0x174b690c0&gt;</pre></div></div></div><div class=\"sk-serial\"><div class=\"sk-item\"><div class=\"sk-estimator sk-toggleable\"><input class=\"sk-toggleable__control sk-hidden--visually\" id=\"sk-estimator-id-4\" type=\"checkbox\" ><label for=\"sk-estimator-id-4\" class=\"sk-toggleable__label sk-toggleable__label-arrow\">OrdinalEncoder</label><div class=\"sk-toggleable__content\"><pre>OrdinalEncoder(handle_unknown=&#x27;use_encoded_value&#x27;, unknown_value=-1)</pre></div></div></div></div></div></div><div class=\"sk-parallel-item\"><div class=\"sk-item\"><div class=\"sk-label-container\"><div class=\"sk-label sk-toggleable\"><input class=\"sk-toggleable__control sk-hidden--visually\" id=\"sk-estimator-id-5\" type=\"checkbox\" ><label for=\"sk-estimator-id-5\" class=\"sk-toggleable__label sk-toggleable__label-arrow\">quantitative_cols</label><div class=\"sk-toggleable__content\"><pre>&lt;sklearn.compose._column_transformer.make_column_selector object at 0x174b6a680&gt;</pre></div></div></div><div class=\"sk-serial\"><div class=\"sk-item\"><div class=\"sk-estimator sk-toggleable\"><input class=\"sk-toggleable__control sk-hidden--visually\" id=\"sk-estimator-id-6\" type=\"checkbox\" ><label for=\"sk-estimator-id-6\" class=\"sk-toggleable__label sk-toggleable__label-arrow\">passthrough</label><div class=\"sk-toggleable__content\"><pre>passthrough</pre></div></div></div></div></div></div></div></div><div class=\"sk-item sk-dashed-wrapped\"><div class=\"sk-label-container\"><div class=\"sk-label sk-toggleable\"><input class=\"sk-toggleable__control sk-hidden--visually\" id=\"sk-estimator-id-7\" type=\"checkbox\" ><label for=\"sk-estimator-id-7\" class=\"sk-toggleable__label sk-toggleable__label-arrow\">gbft: MultiOutputRegressor</label><div class=\"sk-toggleable__content\"><pre>MultiOutputRegressor(estimator=HistGradientBoostingRegressor(random_state=42))</pre></div></div></div><div class=\"sk-parallel\"><div class=\"sk-parallel-item\"><div class=\"sk-item\"><div class=\"sk-label-container\"><div class=\"sk-label sk-toggleable\"><input class=\"sk-toggleable__control sk-hidden--visually\" id=\"sk-estimator-id-8\" type=\"checkbox\" ><label for=\"sk-estimator-id-8\" class=\"sk-toggleable__label sk-toggleable__label-arrow\">estimator: HistGradientBoostingRegressor</label><div class=\"sk-toggleable__content\"><pre>HistGradientBoostingRegressor(random_state=42)</pre></div></div></div><div class=\"sk-serial\"><div class=\"sk-item\"><div class=\"sk-estimator sk-toggleable\"><input class=\"sk-toggleable__control sk-hidden--visually\" id=\"sk-estimator-id-9\" type=\"checkbox\" ><label for=\"sk-estimator-id-9\" class=\"sk-toggleable__label sk-toggleable__label-arrow\">HistGradientBoostingRegressor</label><div class=\"sk-toggleable__content\"><pre>HistGradientBoostingRegressor(random_state=42)</pre></div></div></div></div></div></div></div></div></div></div></div></div>"
      ],
      "text/plain": [
       "Pipeline(steps=[('feature_eng',\n",
       "                 ColumnTransformer(transformers=[('ordinal_encoding',\n",
       "                                                  OrdinalEncoder(handle_unknown='use_encoded_value',\n",
       "                                                                 unknown_value=-1),\n",
       "                                                  <sklearn.compose._column_transformer.make_column_selector object at 0x174b690c0>),\n",
       "                                                 ('quantitative_cols',\n",
       "                                                  'passthrough',\n",
       "                                                  <sklearn.compose._column_transformer.make_column_selector object at 0x174b6a680>)])),\n",
       "                ('gbft',\n",
       "                 MultiOutputRegressor(estimator=HistGradientBoostingRegressor(random_state=42)))])"
      ]
     },
     "execution_count": 6,
     "metadata": {},
     "output_type": "execute_result"
    }
   ],
   "source": [
    "ordinal_encoder = preprocessing.OrdinalEncoder(handle_unknown=\"use_encoded_value\", unknown_value=-1)\n",
    "\n",
    "gbrt_transformer = compose.ColumnTransformer([\n",
    "    (\"ordinal_encoding\", ordinal_encoder, categorical_selector),\n",
    "    (\"quantitative_cols\", \"passthrough\", numeric_selector)\n",
    "],\n",
    "    remainder=\"drop\"\n",
    ")\n",
    "\n",
    "gbrt_pipeline = pipeline.Pipeline([\n",
    "    (\"feature_eng\", gbrt_transformer),\n",
    "    (\"gbft\", multioutput.MultiOutputRegressor(ensemble.HistGradientBoostingRegressor(random_state=42)))\n",
    "])\n",
    "\n",
    "gbrt_pipeline"
   ]
  },
  {
   "cell_type": "markdown",
   "id": "bead43c0-17f7-45a0-8834-fd8a070b4781",
   "metadata": {},
   "source": [
    "Given the high number of categories and the tradeoffs in category encoding, we choose as our baseline a XGBoost-like ensemble model (GBRT, or Gradient Boosted Regression Tree). These algorithms are known to give the best results with tabular data and will capture non-linear relationships. The GBRT is also robust to outliers and scale, so we do need to perform any feature engineering for quantitative variables. Finally, the GBRT accepts `NaN` values. Given that `affitto_min` and `affitto_max` contain some null values, this spares us some more feature engineering."
   ]
  },
  {
   "cell_type": "code",
   "execution_count": 7,
   "id": "e4e5e7e0-be73-426e-a02e-edd7821cac4d",
   "metadata": {},
   "outputs": [],
   "source": [
    "_ = gbrt_pipeline.fit(X_train, y_train)"
   ]
  },
  {
   "cell_type": "code",
   "execution_count": 8,
   "id": "624d8716-dcd7-4bf6-8583-989ffd75f886",
   "metadata": {},
   "outputs": [
    {
     "data": {
      "text/plain": [
       "'loss'"
      ]
     },
     "execution_count": 8,
     "metadata": {},
     "output_type": "execute_result"
    }
   ],
   "source": [
    "gbrt_pipeline[\"gbft\"].estimator.scoring"
   ]
  },
  {
   "cell_type": "code",
   "execution_count": 9,
   "id": "4c55fc73-b276-4a64-a444-5bda2405889f",
   "metadata": {},
   "outputs": [],
   "source": [
    "cv_results = model_selection.cross_validate(\n",
    "    estimator=gbrt_pipeline,\n",
    "    X=X_train, y=y_train,\n",
    "    scoring=\"neg_mean_absolute_error\"\n",
    ")"
   ]
  },
  {
   "cell_type": "markdown",
   "id": "da4baf72-ce45-4ca1-bfce-e22e58eae632",
   "metadata": {},
   "source": [
    "Here the folds are randomly sampled; given some domain knowledge, we might stratify with respect to a relevant feature."
   ]
  },
  {
   "cell_type": "code",
   "execution_count": 10,
   "id": "af2c6e37-2f38-4abe-abf7-97f348ce0c31",
   "metadata": {},
   "outputs": [
    {
     "data": {
      "text/html": [
       "<div>\n",
       "<style scoped>\n",
       "    .dataframe tbody tr th:only-of-type {\n",
       "        vertical-align: middle;\n",
       "    }\n",
       "\n",
       "    .dataframe tbody tr th {\n",
       "        vertical-align: top;\n",
       "    }\n",
       "\n",
       "    .dataframe thead th {\n",
       "        text-align: right;\n",
       "    }\n",
       "</style>\n",
       "<table border=\"1\" class=\"dataframe\">\n",
       "  <thead>\n",
       "    <tr style=\"text-align: right;\">\n",
       "      <th></th>\n",
       "      <th>fit_time</th>\n",
       "      <th>score_time</th>\n",
       "      <th>test_score</th>\n",
       "    </tr>\n",
       "  </thead>\n",
       "  <tbody>\n",
       "    <tr>\n",
       "      <th>0</th>\n",
       "      <td>3.036252</td>\n",
       "      <td>0.096752</td>\n",
       "      <td>-113.163844</td>\n",
       "    </tr>\n",
       "    <tr>\n",
       "      <th>1</th>\n",
       "      <td>4.035801</td>\n",
       "      <td>0.085758</td>\n",
       "      <td>-113.761199</td>\n",
       "    </tr>\n",
       "    <tr>\n",
       "      <th>2</th>\n",
       "      <td>3.150641</td>\n",
       "      <td>0.130087</td>\n",
       "      <td>-115.281308</td>\n",
       "    </tr>\n",
       "    <tr>\n",
       "      <th>3</th>\n",
       "      <td>3.011556</td>\n",
       "      <td>0.127260</td>\n",
       "      <td>-113.206757</td>\n",
       "    </tr>\n",
       "    <tr>\n",
       "      <th>4</th>\n",
       "      <td>2.528949</td>\n",
       "      <td>0.083819</td>\n",
       "      <td>-118.059284</td>\n",
       "    </tr>\n",
       "  </tbody>\n",
       "</table>\n",
       "</div>"
      ],
      "text/plain": [
       "   fit_time  score_time  test_score\n",
       "0  3.036252    0.096752 -113.163844\n",
       "1  4.035801    0.085758 -113.761199\n",
       "2  3.150641    0.130087 -115.281308\n",
       "3  3.011556    0.127260 -113.206757\n",
       "4  2.528949    0.083819 -118.059284"
      ]
     },
     "execution_count": 10,
     "metadata": {},
     "output_type": "execute_result"
    }
   ],
   "source": [
    "import pandas as pd\n",
    "\n",
    "pd.DataFrame(cv_results)"
   ]
  },
  {
   "cell_type": "markdown",
   "id": "bd0747dd-f3b4-4409-b1cc-73bdd2d4aa7d",
   "metadata": {},
   "source": [
    "The average error is 1e2 euro/squared meter - somewhat high considering that most houses sell at around 1e3 euro/squared meter. On the other hand, we have to keep in mind that basically no feature engineering occurred, and no hyperparameters were tuned.\n",
    "\n",
    "If we do not average the MAE but compute it separately for each target, we see that it is lower for the minimum threshold (though it is still the same order of magnitude)."
   ]
  },
  {
   "cell_type": "code",
   "execution_count": 11,
   "id": "884a9c19-215c-4de4-88b3-4a0ff4a184e9",
   "metadata": {},
   "outputs": [
    {
     "data": {
      "text/plain": [
       "array([ 97.22313988, 134.38706504])"
      ]
     },
     "execution_count": 11,
     "metadata": {},
     "output_type": "execute_result"
    }
   ],
   "source": [
    "def score(model, X_test, y_test):\n",
    "    y_pred = model.predict(X_test)\n",
    "    return metrics.mean_absolute_error(y_test, y_pred, multioutput=\"raw_values\")\n",
    "\n",
    "mae = score(gbrt_pipeline, X_test, y_test)\n",
    "\n",
    "mae"
   ]
  }
 ],
 "metadata": {
  "kernelspec": {
   "display_name": "OMI Forecast",
   "language": "python",
   "name": "omi-forecast"
  },
  "language_info": {
   "codemirror_mode": {
    "name": "ipython",
    "version": 3
   },
   "file_extension": ".py",
   "mimetype": "text/x-python",
   "name": "python",
   "nbconvert_exporter": "python",
   "pygments_lexer": "ipython3",
   "version": "3.10.11"
  }
 },
 "nbformat": 4,
 "nbformat_minor": 5
}
